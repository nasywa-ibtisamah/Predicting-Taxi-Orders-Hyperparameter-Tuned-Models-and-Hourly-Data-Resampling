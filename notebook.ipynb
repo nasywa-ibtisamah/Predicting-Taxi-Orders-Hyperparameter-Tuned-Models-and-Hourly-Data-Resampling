{
 "cells": [
  {
   "cell_type": "markdown",
   "metadata": {},
   "source": [
    "# Contents <a id='back'></a>\n",
    "\n",
    "* [Introduction](#intro)\n",
    "* [1. Data Overview](#data_review)\n",
    "    * [Conclusions](#data_review_conclusions)\n",
    "* [2. Data PreProcessing](#data_preprocessing)\n",
    "    * [2.1 Data Resampling](#data_resampling)\n",
    "    * [2.2 Features Engineering](#features_engineering)\n",
    "* [3. Model Training and Evaluation](#model_training_evaluation)\n",
    "    * [3.1 Splitting the dataset into a training set and a test set](#splitting_dataset)\n",
    "    * [3.2 Training Model](#training_model)\n",
    "* [4. Testing the Model on Test Set](#testing_model_test_set)\n",
    "* [General Conclusion](#end)"
   ]
  },
  {
   "cell_type": "markdown",
   "metadata": {},
   "source": [
    "# Introduction <a id='intro'></a>\n",
    "\n",
    "In this project, I will train different models with varying hyperparameters to predict the number of taxi orders for the next hour.  I will perform data resampling on an hourly basis.\n",
    "\n",
    "\n",
    "**Objective:**\n",
    "\n",
    "Find out the best model with RMSE value under 48.\n",
    "\n",
    "**This project will comprise the following steps:**\n",
    "\n",
    "1. Data Overview\n",
    "2. Data preprocessing\n",
    "3. Model Training and Evaluation\n",
    "4. Testing the Model on Test Set\n",
    "\n",
    "[Back to Contents](#back)"
   ]
  },
  {
   "cell_type": "markdown",
   "metadata": {},
   "source": [
    "## 1. Data Overview <a id='data_review'></a>\n",
    "\n",
    "The steps to be performed are as follows:\n",
    "1. Checking the number of rows and columns.\n",
    "2. Checking for missing values.\n",
    "3. Checking for duplicate data.\n",
    "4. Checking statistical information in columns with numerical data types.\n",
    "5. Checking values in columns with categorical data types.\n",
    "\n",
    "[Back to Contents](#back)"
   ]
  },
  {
   "cell_type": "code",
   "execution_count": 1,
   "metadata": {},
   "outputs": [],
   "source": [
    "# load library\n",
    "\n",
    "import numpy as np, pandas as pd\n",
    "\n",
    "import matplotlib.pyplot as plt\n",
    "import seaborn as sns\n",
    "\n",
    "from sklearn.model_selection import train_test_split\n",
    "\n",
    "from sklearn.ensemble import RandomForestRegressor\n",
    "from sklearn.linear_model import LinearRegression\n",
    "from sklearn.tree import DecisionTreeRegressor\n",
    "\n",
    "from sklearn.metrics import mean_squared_error\n",
    "\n",
    "import warnings\n",
    "warnings.filterwarnings('ignore')\n",
    "pd.set_option('display.max_columns', 100)"
   ]
  },
  {
   "cell_type": "markdown",
   "metadata": {},
   "source": [
    "### 1.1 Data Exploration: df dataset"
   ]
  },
  {
   "cell_type": "code",
   "execution_count": 2,
   "metadata": {},
   "outputs": [],
   "source": [
    "df = pd.read_csv('data/taxi.csv', parse_dates = [0])"
   ]
  },
  {
   "cell_type": "code",
   "execution_count": 3,
   "metadata": {},
   "outputs": [
    {
     "data": {
      "text/plain": [
       "(26496, 2)"
      ]
     },
     "execution_count": 3,
     "metadata": {},
     "output_type": "execute_result"
    }
   ],
   "source": [
    "df.shape"
   ]
  },
  {
   "cell_type": "code",
   "execution_count": 4,
   "metadata": {},
   "outputs": [
    {
     "name": "stdout",
     "output_type": "stream",
     "text": [
      "<class 'pandas.core.frame.DataFrame'>\n",
      "RangeIndex: 26496 entries, 0 to 26495\n",
      "Data columns (total 2 columns):\n",
      " #   Column      Non-Null Count  Dtype         \n",
      "---  ------      --------------  -----         \n",
      " 0   datetime    26496 non-null  datetime64[ns]\n",
      " 1   num_orders  26496 non-null  int64         \n",
      "dtypes: datetime64[ns](1), int64(1)\n",
      "memory usage: 414.1 KB\n"
     ]
    }
   ],
   "source": [
    "df.info()"
   ]
  },
  {
   "cell_type": "code",
   "execution_count": 5,
   "metadata": {},
   "outputs": [
    {
     "data": {
      "text/plain": [
       "datetime      0.0\n",
       "num_orders    0.0\n",
       "dtype: float64"
      ]
     },
     "execution_count": 5,
     "metadata": {},
     "output_type": "execute_result"
    }
   ],
   "source": [
    "(df.isnull().sum() / len(df) * 100).sort_values()"
   ]
  },
  {
   "cell_type": "markdown",
   "metadata": {},
   "source": [
    "### 1.2 Conclusion of Data Overview step**\n",
    "\n",
    "1. The \"parse_dates\" argument has been added during the dataset loading stage to convert the Dtype from object to datetime.\n",
    "2. There are no missing values in both columns.\n",
    "3. The historical data starts from March 1, 2018, and goes up to August 31, 2018."
   ]
  },
  {
   "cell_type": "markdown",
   "metadata": {},
   "source": [
    "## 2. Data Preprocessing <a id='data_preprocessing'></a>"
   ]
  },
  {
   "cell_type": "markdown",
   "metadata": {},
   "source": [
    "### 2.1 Data Resampling <a id='data_resampling'></a>"
   ]
  },
  {
   "cell_type": "code",
   "execution_count": 6,
   "metadata": {},
   "outputs": [],
   "source": [
    "df = df.resample('1H', on = 'datetime').sum()"
   ]
  },
  {
   "cell_type": "code",
   "execution_count": 7,
   "metadata": {},
   "outputs": [
    {
     "data": {
      "text/plain": [
       "(4416, 1)"
      ]
     },
     "execution_count": 7,
     "metadata": {},
     "output_type": "execute_result"
    }
   ],
   "source": [
    "df.shape"
   ]
  },
  {
   "cell_type": "code",
   "execution_count": 8,
   "metadata": {},
   "outputs": [
    {
     "data": {
      "text/html": [
       "<div>\n",
       "<style scoped>\n",
       "    .dataframe tbody tr th:only-of-type {\n",
       "        vertical-align: middle;\n",
       "    }\n",
       "\n",
       "    .dataframe tbody tr th {\n",
       "        vertical-align: top;\n",
       "    }\n",
       "\n",
       "    .dataframe thead th {\n",
       "        text-align: right;\n",
       "    }\n",
       "</style>\n",
       "<table border=\"1\" class=\"dataframe\">\n",
       "  <thead>\n",
       "    <tr style=\"text-align: right;\">\n",
       "      <th></th>\n",
       "      <th>num_orders</th>\n",
       "    </tr>\n",
       "    <tr>\n",
       "      <th>datetime</th>\n",
       "      <th></th>\n",
       "    </tr>\n",
       "  </thead>\n",
       "  <tbody>\n",
       "    <tr>\n",
       "      <th>2018-08-31 14:00:00</th>\n",
       "      <td>133</td>\n",
       "    </tr>\n",
       "    <tr>\n",
       "      <th>2018-08-31 15:00:00</th>\n",
       "      <td>116</td>\n",
       "    </tr>\n",
       "    <tr>\n",
       "      <th>2018-08-31 16:00:00</th>\n",
       "      <td>197</td>\n",
       "    </tr>\n",
       "    <tr>\n",
       "      <th>2018-08-31 17:00:00</th>\n",
       "      <td>217</td>\n",
       "    </tr>\n",
       "    <tr>\n",
       "      <th>2018-08-31 18:00:00</th>\n",
       "      <td>207</td>\n",
       "    </tr>\n",
       "    <tr>\n",
       "      <th>2018-08-31 19:00:00</th>\n",
       "      <td>136</td>\n",
       "    </tr>\n",
       "    <tr>\n",
       "      <th>2018-08-31 20:00:00</th>\n",
       "      <td>154</td>\n",
       "    </tr>\n",
       "    <tr>\n",
       "      <th>2018-08-31 21:00:00</th>\n",
       "      <td>159</td>\n",
       "    </tr>\n",
       "    <tr>\n",
       "      <th>2018-08-31 22:00:00</th>\n",
       "      <td>223</td>\n",
       "    </tr>\n",
       "    <tr>\n",
       "      <th>2018-08-31 23:00:00</th>\n",
       "      <td>205</td>\n",
       "    </tr>\n",
       "  </tbody>\n",
       "</table>\n",
       "</div>"
      ],
      "text/plain": [
       "                     num_orders\n",
       "datetime                       \n",
       "2018-08-31 14:00:00         133\n",
       "2018-08-31 15:00:00         116\n",
       "2018-08-31 16:00:00         197\n",
       "2018-08-31 17:00:00         217\n",
       "2018-08-31 18:00:00         207\n",
       "2018-08-31 19:00:00         136\n",
       "2018-08-31 20:00:00         154\n",
       "2018-08-31 21:00:00         159\n",
       "2018-08-31 22:00:00         223\n",
       "2018-08-31 23:00:00         205"
      ]
     },
     "execution_count": 8,
     "metadata": {},
     "output_type": "execute_result"
    }
   ],
   "source": [
    "df.tail(10)"
   ]
  },
  {
   "cell_type": "code",
   "execution_count": 9,
   "metadata": {},
   "outputs": [
    {
     "name": "stdout",
     "output_type": "stream",
     "text": [
      "<class 'pandas.core.frame.DataFrame'>\n",
      "DatetimeIndex: 4416 entries, 2018-03-01 00:00:00 to 2018-08-31 23:00:00\n",
      "Freq: H\n",
      "Data columns (total 1 columns):\n",
      " #   Column      Non-Null Count  Dtype\n",
      "---  ------      --------------  -----\n",
      " 0   num_orders  4416 non-null   int64\n",
      "dtypes: int64(1)\n",
      "memory usage: 69.0 KB\n"
     ]
    }
   ],
   "source": [
    "df.info()"
   ]
  },
  {
   "cell_type": "markdown",
   "metadata": {},
   "source": [
    "**Findings**\n",
    "\n",
    "After performing data resampling on an hourly basis, the number of row becomes 4416, down from the original 26496."
   ]
  },
  {
   "cell_type": "markdown",
   "metadata": {},
   "source": [
    "### 2.2 Features Engineering <a id='features_engineering'></a>"
   ]
  },
  {
   "cell_type": "code",
   "execution_count": 10,
   "metadata": {},
   "outputs": [],
   "source": [
    "# function untuk make features\n",
    "def make_features(data, max_lag, rolling_mean_size):\n",
    "    df['year'] = df.index.year\n",
    "    df['month'] = df.index.month\n",
    "    df['day'] = df.index.day\n",
    "    df['hour'] = df.index.hour\n",
    "\n",
    "    for lag in range(1, max_lag + 1):\n",
    "        df['lag_{}'.format(lag)] = df['num_orders'].shift(lag)\n",
    "\n",
    "    data['rolling_mean'] = (\n",
    "        df['num_orders'].shift().rolling(rolling_mean_size).mean()\n",
    "    )"
   ]
  },
  {
   "cell_type": "code",
   "execution_count": 11,
   "metadata": {},
   "outputs": [],
   "source": [
    "make_features(df, 6, 10)"
   ]
  },
  {
   "cell_type": "code",
   "execution_count": 12,
   "metadata": {},
   "outputs": [
    {
     "data": {
      "text/html": [
       "<div>\n",
       "<style scoped>\n",
       "    .dataframe tbody tr th:only-of-type {\n",
       "        vertical-align: middle;\n",
       "    }\n",
       "\n",
       "    .dataframe tbody tr th {\n",
       "        vertical-align: top;\n",
       "    }\n",
       "\n",
       "    .dataframe thead th {\n",
       "        text-align: right;\n",
       "    }\n",
       "</style>\n",
       "<table border=\"1\" class=\"dataframe\">\n",
       "  <thead>\n",
       "    <tr style=\"text-align: right;\">\n",
       "      <th></th>\n",
       "      <th>num_orders</th>\n",
       "      <th>year</th>\n",
       "      <th>month</th>\n",
       "      <th>day</th>\n",
       "      <th>hour</th>\n",
       "      <th>lag_1</th>\n",
       "      <th>lag_2</th>\n",
       "      <th>lag_3</th>\n",
       "      <th>lag_4</th>\n",
       "      <th>lag_5</th>\n",
       "      <th>lag_6</th>\n",
       "      <th>rolling_mean</th>\n",
       "    </tr>\n",
       "    <tr>\n",
       "      <th>datetime</th>\n",
       "      <th></th>\n",
       "      <th></th>\n",
       "      <th></th>\n",
       "      <th></th>\n",
       "      <th></th>\n",
       "      <th></th>\n",
       "      <th></th>\n",
       "      <th></th>\n",
       "      <th></th>\n",
       "      <th></th>\n",
       "      <th></th>\n",
       "      <th></th>\n",
       "    </tr>\n",
       "  </thead>\n",
       "  <tbody>\n",
       "    <tr>\n",
       "      <th>2018-03-01 00:00:00</th>\n",
       "      <td>124</td>\n",
       "      <td>2018</td>\n",
       "      <td>3</td>\n",
       "      <td>1</td>\n",
       "      <td>0</td>\n",
       "      <td>NaN</td>\n",
       "      <td>NaN</td>\n",
       "      <td>NaN</td>\n",
       "      <td>NaN</td>\n",
       "      <td>NaN</td>\n",
       "      <td>NaN</td>\n",
       "      <td>NaN</td>\n",
       "    </tr>\n",
       "    <tr>\n",
       "      <th>2018-03-01 01:00:00</th>\n",
       "      <td>85</td>\n",
       "      <td>2018</td>\n",
       "      <td>3</td>\n",
       "      <td>1</td>\n",
       "      <td>1</td>\n",
       "      <td>124.0</td>\n",
       "      <td>NaN</td>\n",
       "      <td>NaN</td>\n",
       "      <td>NaN</td>\n",
       "      <td>NaN</td>\n",
       "      <td>NaN</td>\n",
       "      <td>NaN</td>\n",
       "    </tr>\n",
       "    <tr>\n",
       "      <th>2018-03-01 02:00:00</th>\n",
       "      <td>71</td>\n",
       "      <td>2018</td>\n",
       "      <td>3</td>\n",
       "      <td>1</td>\n",
       "      <td>2</td>\n",
       "      <td>85.0</td>\n",
       "      <td>124.0</td>\n",
       "      <td>NaN</td>\n",
       "      <td>NaN</td>\n",
       "      <td>NaN</td>\n",
       "      <td>NaN</td>\n",
       "      <td>NaN</td>\n",
       "    </tr>\n",
       "    <tr>\n",
       "      <th>2018-03-01 03:00:00</th>\n",
       "      <td>66</td>\n",
       "      <td>2018</td>\n",
       "      <td>3</td>\n",
       "      <td>1</td>\n",
       "      <td>3</td>\n",
       "      <td>71.0</td>\n",
       "      <td>85.0</td>\n",
       "      <td>124.0</td>\n",
       "      <td>NaN</td>\n",
       "      <td>NaN</td>\n",
       "      <td>NaN</td>\n",
       "      <td>NaN</td>\n",
       "    </tr>\n",
       "    <tr>\n",
       "      <th>2018-03-01 04:00:00</th>\n",
       "      <td>43</td>\n",
       "      <td>2018</td>\n",
       "      <td>3</td>\n",
       "      <td>1</td>\n",
       "      <td>4</td>\n",
       "      <td>66.0</td>\n",
       "      <td>71.0</td>\n",
       "      <td>85.0</td>\n",
       "      <td>124.0</td>\n",
       "      <td>NaN</td>\n",
       "      <td>NaN</td>\n",
       "      <td>NaN</td>\n",
       "    </tr>\n",
       "  </tbody>\n",
       "</table>\n",
       "</div>"
      ],
      "text/plain": [
       "                     num_orders  year  month  day  hour  lag_1  lag_2  lag_3  \\\n",
       "datetime                                                                       \n",
       "2018-03-01 00:00:00         124  2018      3    1     0    NaN    NaN    NaN   \n",
       "2018-03-01 01:00:00          85  2018      3    1     1  124.0    NaN    NaN   \n",
       "2018-03-01 02:00:00          71  2018      3    1     2   85.0  124.0    NaN   \n",
       "2018-03-01 03:00:00          66  2018      3    1     3   71.0   85.0  124.0   \n",
       "2018-03-01 04:00:00          43  2018      3    1     4   66.0   71.0   85.0   \n",
       "\n",
       "                     lag_4  lag_5  lag_6  rolling_mean  \n",
       "datetime                                                \n",
       "2018-03-01 00:00:00    NaN    NaN    NaN           NaN  \n",
       "2018-03-01 01:00:00    NaN    NaN    NaN           NaN  \n",
       "2018-03-01 02:00:00    NaN    NaN    NaN           NaN  \n",
       "2018-03-01 03:00:00    NaN    NaN    NaN           NaN  \n",
       "2018-03-01 04:00:00  124.0    NaN    NaN           NaN  "
      ]
     },
     "execution_count": 12,
     "metadata": {},
     "output_type": "execute_result"
    }
   ],
   "source": [
    "df.head()"
   ]
  },
  {
   "cell_type": "markdown",
   "metadata": {},
   "source": [
    "[Back to Contents](#back)"
   ]
  },
  {
   "cell_type": "markdown",
   "metadata": {},
   "source": [
    "## 3. Model Training and Evaluation <a id='model_training_evaluation'></a>"
   ]
  },
  {
   "cell_type": "markdown",
   "metadata": {},
   "source": [
    "### 3.1 Splitting the dataset into a training set and a test set <a id='splitting_dataset'></a>"
   ]
  },
  {
   "cell_type": "code",
   "execution_count": 13,
   "metadata": {},
   "outputs": [],
   "source": [
    "train, test = train_test_split(df, shuffle=False, test_size=0.2)"
   ]
  },
  {
   "cell_type": "code",
   "execution_count": 14,
   "metadata": {},
   "outputs": [],
   "source": [
    "train = train.dropna()"
   ]
  },
  {
   "cell_type": "code",
   "execution_count": 15,
   "metadata": {},
   "outputs": [],
   "source": [
    "# defining features and target\n",
    "features_train = train.drop(['num_orders'], axis = 1)\n",
    "target_train = train['num_orders']\n",
    "features_test = test.drop(['num_orders'], axis = 1)\n",
    "target_test = test['num_orders']"
   ]
  },
  {
   "cell_type": "code",
   "execution_count": 16,
   "metadata": {},
   "outputs": [
    {
     "data": {
      "text/plain": [
       "(3522, 11)"
      ]
     },
     "execution_count": 16,
     "metadata": {},
     "output_type": "execute_result"
    }
   ],
   "source": [
    "features_train.shape"
   ]
  },
  {
   "cell_type": "code",
   "execution_count": 17,
   "metadata": {},
   "outputs": [
    {
     "data": {
      "text/plain": [
       "(3522,)"
      ]
     },
     "execution_count": 17,
     "metadata": {},
     "output_type": "execute_result"
    }
   ],
   "source": [
    "target_train.shape"
   ]
  },
  {
   "cell_type": "code",
   "execution_count": 18,
   "metadata": {},
   "outputs": [
    {
     "data": {
      "text/plain": [
       "(884, 11)"
      ]
     },
     "execution_count": 18,
     "metadata": {},
     "output_type": "execute_result"
    }
   ],
   "source": [
    "features_test.shape"
   ]
  },
  {
   "cell_type": "code",
   "execution_count": 19,
   "metadata": {},
   "outputs": [
    {
     "data": {
      "text/plain": [
       "(884,)"
      ]
     },
     "execution_count": 19,
     "metadata": {},
     "output_type": "execute_result"
    }
   ],
   "source": [
    "target_test.shape"
   ]
  },
  {
   "cell_type": "markdown",
   "metadata": {},
   "source": [
    "### 3.2 Training Model <a id='training_model'></a>"
   ]
  },
  {
   "cell_type": "markdown",
   "metadata": {},
   "source": [
    "#### 3.2.1 Linear Regression Model"
   ]
  },
  {
   "cell_type": "code",
   "execution_count": 20,
   "metadata": {},
   "outputs": [
    {
     "data": {
      "text/html": [
       "<style>#sk-container-id-1 {color: black;}#sk-container-id-1 pre{padding: 0;}#sk-container-id-1 div.sk-toggleable {background-color: white;}#sk-container-id-1 label.sk-toggleable__label {cursor: pointer;display: block;width: 100%;margin-bottom: 0;padding: 0.3em;box-sizing: border-box;text-align: center;}#sk-container-id-1 label.sk-toggleable__label-arrow:before {content: \"▸\";float: left;margin-right: 0.25em;color: #696969;}#sk-container-id-1 label.sk-toggleable__label-arrow:hover:before {color: black;}#sk-container-id-1 div.sk-estimator:hover label.sk-toggleable__label-arrow:before {color: black;}#sk-container-id-1 div.sk-toggleable__content {max-height: 0;max-width: 0;overflow: hidden;text-align: left;background-color: #f0f8ff;}#sk-container-id-1 div.sk-toggleable__content pre {margin: 0.2em;color: black;border-radius: 0.25em;background-color: #f0f8ff;}#sk-container-id-1 input.sk-toggleable__control:checked~div.sk-toggleable__content {max-height: 200px;max-width: 100%;overflow: auto;}#sk-container-id-1 input.sk-toggleable__control:checked~label.sk-toggleable__label-arrow:before {content: \"▾\";}#sk-container-id-1 div.sk-estimator input.sk-toggleable__control:checked~label.sk-toggleable__label {background-color: #d4ebff;}#sk-container-id-1 div.sk-label input.sk-toggleable__control:checked~label.sk-toggleable__label {background-color: #d4ebff;}#sk-container-id-1 input.sk-hidden--visually {border: 0;clip: rect(1px 1px 1px 1px);clip: rect(1px, 1px, 1px, 1px);height: 1px;margin: -1px;overflow: hidden;padding: 0;position: absolute;width: 1px;}#sk-container-id-1 div.sk-estimator {font-family: monospace;background-color: #f0f8ff;border: 1px dotted black;border-radius: 0.25em;box-sizing: border-box;margin-bottom: 0.5em;}#sk-container-id-1 div.sk-estimator:hover {background-color: #d4ebff;}#sk-container-id-1 div.sk-parallel-item::after {content: \"\";width: 100%;border-bottom: 1px solid gray;flex-grow: 1;}#sk-container-id-1 div.sk-label:hover label.sk-toggleable__label {background-color: #d4ebff;}#sk-container-id-1 div.sk-serial::before {content: \"\";position: absolute;border-left: 1px solid gray;box-sizing: border-box;top: 0;bottom: 0;left: 50%;z-index: 0;}#sk-container-id-1 div.sk-serial {display: flex;flex-direction: column;align-items: center;background-color: white;padding-right: 0.2em;padding-left: 0.2em;position: relative;}#sk-container-id-1 div.sk-item {position: relative;z-index: 1;}#sk-container-id-1 div.sk-parallel {display: flex;align-items: stretch;justify-content: center;background-color: white;position: relative;}#sk-container-id-1 div.sk-item::before, #sk-container-id-1 div.sk-parallel-item::before {content: \"\";position: absolute;border-left: 1px solid gray;box-sizing: border-box;top: 0;bottom: 0;left: 50%;z-index: -1;}#sk-container-id-1 div.sk-parallel-item {display: flex;flex-direction: column;z-index: 1;position: relative;background-color: white;}#sk-container-id-1 div.sk-parallel-item:first-child::after {align-self: flex-end;width: 50%;}#sk-container-id-1 div.sk-parallel-item:last-child::after {align-self: flex-start;width: 50%;}#sk-container-id-1 div.sk-parallel-item:only-child::after {width: 0;}#sk-container-id-1 div.sk-dashed-wrapped {border: 1px dashed gray;margin: 0 0.4em 0.5em 0.4em;box-sizing: border-box;padding-bottom: 0.4em;background-color: white;}#sk-container-id-1 div.sk-label label {font-family: monospace;font-weight: bold;display: inline-block;line-height: 1.2em;}#sk-container-id-1 div.sk-label-container {text-align: center;}#sk-container-id-1 div.sk-container {/* jupyter's `normalize.less` sets `[hidden] { display: none; }` but bootstrap.min.css set `[hidden] { display: none !important; }` so we also need the `!important` here to be able to override the default hidden behavior on the sphinx rendered scikit-learn.org. See: https://github.com/scikit-learn/scikit-learn/issues/21755 */display: inline-block !important;position: relative;}#sk-container-id-1 div.sk-text-repr-fallback {display: none;}</style><div id=\"sk-container-id-1\" class=\"sk-top-container\"><div class=\"sk-text-repr-fallback\"><pre>LinearRegression()</pre><b>In a Jupyter environment, please rerun this cell to show the HTML representation or trust the notebook. <br />On GitHub, the HTML representation is unable to render, please try loading this page with nbviewer.org.</b></div><div class=\"sk-container\" hidden><div class=\"sk-item\"><div class=\"sk-estimator sk-toggleable\"><input class=\"sk-toggleable__control sk-hidden--visually\" id=\"sk-estimator-id-1\" type=\"checkbox\" checked><label for=\"sk-estimator-id-1\" class=\"sk-toggleable__label sk-toggleable__label-arrow\">LinearRegression</label><div class=\"sk-toggleable__content\"><pre>LinearRegression()</pre></div></div></div></div></div>"
      ],
      "text/plain": [
       "LinearRegression()"
      ]
     },
     "execution_count": 20,
     "metadata": {},
     "output_type": "execute_result"
    }
   ],
   "source": [
    "linreg_model = LinearRegression()\n",
    "linreg_model.fit(features_train, target_train)"
   ]
  },
  {
   "cell_type": "code",
   "execution_count": 21,
   "metadata": {},
   "outputs": [],
   "source": [
    "pred_train_linreg = linreg_model.predict(features_train)\n",
    "pred_test_linreg = linreg_model.predict(features_test)"
   ]
  },
  {
   "cell_type": "code",
   "execution_count": 22,
   "metadata": {},
   "outputs": [],
   "source": [
    "rmse_train_linreg = np.sqrt(mean_squared_error(target_train, pred_train_linreg))\n",
    "rmse_test_linreg = np.sqrt(mean_squared_error(target_test, pred_test_linreg))"
   ]
  },
  {
   "cell_type": "code",
   "execution_count": 23,
   "metadata": {},
   "outputs": [
    {
     "name": "stdout",
     "output_type": "stream",
     "text": [
      "RMSE for training set using Linear Regression model is:  28.993953135372347\n",
      "RMSE for test set using Linear Regression model is:  47.80919467530927\n"
     ]
    }
   ],
   "source": [
    "print(\"RMSE for training set using Linear Regression model is: \", rmse_train_linreg)\n",
    "print(\"RMSE for test set using Linear Regression model is: \", rmse_test_linreg)"
   ]
  },
  {
   "cell_type": "markdown",
   "metadata": {},
   "source": [
    "#### 3.2.2 Decision Tree Regressor Model"
   ]
  },
  {
   "cell_type": "code",
   "execution_count": 24,
   "metadata": {},
   "outputs": [
    {
     "name": "stdout",
     "output_type": "stream",
     "text": [
      "At max_depth 1 the RMSE value for both train set and test set are:\n",
      "train set  31.8738529696808\n",
      "test set  66.75266892956195\n",
      "\n",
      "At max_depth 2 the RMSE value for both train set and test set are:\n",
      "train set  29.08273130505385\n",
      "test set  65.31556238996731\n",
      "\n",
      "At max_depth 3 the RMSE value for both train set and test set are:\n",
      "train set  26.863380220409365\n",
      "test set  59.64397778378063\n",
      "\n",
      "At max_depth 4 the RMSE value for both train set and test set are:\n",
      "train set  25.706221631715724\n",
      "test set  58.75823358931518\n",
      "\n",
      "At max_depth 5 the RMSE value for both train set and test set are:\n",
      "train set  24.1374876460292\n",
      "test set  55.47290601497393\n",
      "\n",
      "At max_depth 6 the RMSE value for both train set and test set are:\n",
      "train set  21.944683991086585\n",
      "test set  53.75862523855387\n",
      "\n",
      "At max_depth 7 the RMSE value for both train set and test set are:\n",
      "train set  20.074509673464426\n",
      "test set  50.590928094129055\n",
      "\n",
      "At max_depth 8 the RMSE value for both train set and test set are:\n",
      "train set  18.296289944215076\n",
      "test set  48.0812223575771\n",
      "\n",
      "At max_depth 9 the RMSE value for both train set and test set are:\n",
      "train set  16.588603883551926\n",
      "test set  47.42925711358862\n",
      "\n",
      "At max_depth 10 the RMSE value for both train set and test set are:\n",
      "train set  14.664661335666322\n",
      "test set  47.79767100586672\n",
      "\n",
      "At max_depth 11 the RMSE value for both train set and test set are:\n",
      "train set  12.773560496809235\n",
      "test set  49.41187440879465\n",
      "\n",
      "At max_depth 12 the RMSE value for both train set and test set are:\n",
      "train set  10.65684661558205\n",
      "test set  49.255031760129505\n",
      "\n",
      "At max_depth 13 the RMSE value for both train set and test set are:\n",
      "train set  8.706767050959556\n",
      "test set  49.29032051670993\n",
      "\n",
      "At max_depth 14 the RMSE value for both train set and test set are:\n",
      "train set  6.967011882963007\n",
      "test set  49.46660936109932\n",
      "\n",
      "At max_depth 15 the RMSE value for both train set and test set are:\n",
      "train set  5.30479459913015\n",
      "test set  52.06543332116544\n",
      "\n",
      "At max_depth 16 the RMSE value for both train set and test set are:\n",
      "train set  3.9857337237122703\n",
      "test set  50.70426026635858\n",
      "\n",
      "At max_depth 17 the RMSE value for both train set and test set are:\n",
      "train set  2.958043455053434\n",
      "test set  51.268668148277335\n",
      "\n",
      "At max_depth 18 the RMSE value for both train set and test set are:\n",
      "train set  2.084442308046123\n",
      "test set  50.852957192954015\n",
      "\n",
      "At max_depth 19 the RMSE value for both train set and test set are:\n",
      "train set  1.4395683511252486\n",
      "test set  50.924880627060304\n",
      "\n"
     ]
    }
   ],
   "source": [
    "for depth in range(1, 20):\n",
    "    model_dtree = DecisionTreeRegressor(max_depth=depth, random_state = 42)\n",
    "    model_dtree.fit(features_train, target_train)\n",
    "    \n",
    "    pred_train_dt = model_dtree.predict(features_train)\n",
    "    pred_test_dt = model_dtree.predict(features_test)\n",
    "    \n",
    "    rmse_train_dt = np.sqrt(mean_squared_error(target_train, pred_train_dt))\n",
    "    rmse_test_dt = np.sqrt(mean_squared_error(target_test, pred_test_dt))\n",
    "    \n",
    "    print(\"At max_depth\", depth, \"the RMSE value for both train set and test set are:\", end='')\n",
    "    print()\n",
    "    print('train set ', rmse_train_dt)\n",
    "    print('test set ', rmse_test_dt)\n",
    "    print()"
   ]
  },
  {
   "cell_type": "markdown",
   "metadata": {},
   "source": [
    "#### 3.2.3 Random Forest Regressor Model"
   ]
  },
  {
   "cell_type": "code",
   "execution_count": 25,
   "metadata": {},
   "outputs": [
    {
     "name": "stdout",
     "output_type": "stream",
     "text": [
      "At depth 1 and n_estimator 100 , the RMSE value for train set is 31.541709644056652 , and for test set, it is 66.34107601335101\n",
      "At depth 1 and n_estimator 200 , the RMSE value for train set is 31.524166218579694 , and for test set, it is 66.2783518246163\n",
      "At depth 1 and n_estimator 300 , the RMSE value for train set is 31.52313978763837 , and for test set, it is 66.29393399157513\n",
      "At depth 1 and n_estimator 400 , the RMSE value for train set is 31.52008050874516 , and for test set, it is 66.32776756698024\n",
      "At depth 1 and n_estimator 500 , the RMSE value for train set is 31.518451743096907 , and for test set, it is 66.36426516504564\n",
      "At depth 2 and n_estimator 100 , the RMSE value for train set is 28.418751424092406 , and for test set, it is 64.21194810658511\n",
      "At depth 2 and n_estimator 200 , the RMSE value for train set is 28.41923143208154 , and for test set, it is 64.25693978602396\n",
      "At depth 2 and n_estimator 300 , the RMSE value for train set is 28.42026919498915 , and for test set, it is 64.25755461445486\n",
      "At depth 2 and n_estimator 400 , the RMSE value for train set is 28.407418999490737 , and for test set, it is 64.25420652116303\n",
      "At depth 2 and n_estimator 500 , the RMSE value for train set is 28.429554236349645 , and for test set, it is 64.35496222038037\n",
      "At depth 3 and n_estimator 100 , the RMSE value for train set is 26.019463810950537 , and for test set, it is 59.008807901431176\n",
      "At depth 3 and n_estimator 200 , the RMSE value for train set is 25.99115215714148 , and for test set, it is 58.99782182701158\n",
      "At depth 3 and n_estimator 300 , the RMSE value for train set is 25.996876531049935 , and for test set, it is 59.08076351665548\n",
      "At depth 3 and n_estimator 400 , the RMSE value for train set is 25.984407075848043 , and for test set, it is 59.021516586479244\n",
      "At depth 3 and n_estimator 500 , the RMSE value for train set is 26.000786520630925 , and for test set, it is 59.14105277206818\n",
      "At depth 4 and n_estimator 100 , the RMSE value for train set is 24.5712789120887 , and for test set, it is 56.55245270468905\n",
      "At depth 4 and n_estimator 200 , the RMSE value for train set is 24.546985702358022 , and for test set, it is 56.43972869678227\n",
      "At depth 4 and n_estimator 300 , the RMSE value for train set is 24.541828153802925 , and for test set, it is 56.46903774595258\n",
      "At depth 4 and n_estimator 400 , the RMSE value for train set is 24.53502708624332 , and for test set, it is 56.328458694667404\n",
      "At depth 4 and n_estimator 500 , the RMSE value for train set is 24.54537767239304 , and for test set, it is 56.39254822916754\n",
      "At depth 5 and n_estimator 100 , the RMSE value for train set is 22.802465132210212 , and for test set, it is 52.20356559097204\n",
      "At depth 5 and n_estimator 200 , the RMSE value for train set is 22.736240728344917 , and for test set, it is 52.527496806518016\n",
      "At depth 5 and n_estimator 300 , the RMSE value for train set is 22.713925906432202 , and for test set, it is 52.56546977635101\n",
      "At depth 5 and n_estimator 400 , the RMSE value for train set is 22.698007906492432 , and for test set, it is 52.54283174647734\n",
      "At depth 5 and n_estimator 500 , the RMSE value for train set is 22.696498450661117 , and for test set, it is 52.603652469228166\n",
      "At depth 6 and n_estimator 100 , the RMSE value for train set is 21.13865813133867 , and for test set, it is 49.461699092178485\n",
      "At depth 6 and n_estimator 200 , the RMSE value for train set is 21.043320861347215 , and for test set, it is 49.761650075503226\n",
      "At depth 6 and n_estimator 300 , the RMSE value for train set is 21.008794860475312 , and for test set, it is 50.02207716287246\n",
      "At depth 6 and n_estimator 400 , the RMSE value for train set is 20.980107383408473 , and for test set, it is 49.90898529126804\n",
      "At depth 6 and n_estimator 500 , the RMSE value for train set is 20.982843233773114 , and for test set, it is 49.88209399069047\n",
      "At depth 7 and n_estimator 100 , the RMSE value for train set is 19.498808922288795 , and for test set, it is 47.79394865062757\n",
      "At depth 7 and n_estimator 200 , the RMSE value for train set is 19.384067959845588 , and for test set, it is 47.779447235477875\n",
      "At depth 7 and n_estimator 300 , the RMSE value for train set is 19.354813824334503 , and for test set, it is 47.98703307749341\n",
      "At depth 7 and n_estimator 400 , the RMSE value for train set is 19.319567376051534 , and for test set, it is 47.945464719441645\n",
      "At depth 7 and n_estimator 500 , the RMSE value for train set is 19.329177705642184 , and for test set, it is 47.97021384223308\n",
      "At depth 8 and n_estimator 100 , the RMSE value for train set is 17.83071233228848 , and for test set, it is 46.39779996108236\n",
      "At depth 8 and n_estimator 200 , the RMSE value for train set is 17.70036273326457 , and for test set, it is 46.503848398168635\n",
      "At depth 8 and n_estimator 300 , the RMSE value for train set is 17.673379516388813 , and for test set, it is 46.71935718099168\n",
      "At depth 8 and n_estimator 400 , the RMSE value for train set is 17.640890334615136 , and for test set, it is 46.74893684506083\n",
      "At depth 8 and n_estimator 500 , the RMSE value for train set is 17.644505287202975 , and for test set, it is 46.81550937097658\n",
      "At depth 9 and n_estimator 100 , the RMSE value for train set is 16.091635884584495 , and for test set, it is 45.74912636867703\n",
      "At depth 9 and n_estimator 200 , the RMSE value for train set is 15.958138884609951 , and for test set, it is 45.79894481136409\n",
      "At depth 9 and n_estimator 300 , the RMSE value for train set is 15.933970714699115 , and for test set, it is 45.88883883345929\n",
      "At depth 9 and n_estimator 400 , the RMSE value for train set is 15.9123162260301 , and for test set, it is 46.01202062584138\n",
      "At depth 9 and n_estimator 500 , the RMSE value for train set is 15.918708733451352 , and for test set, it is 46.036162711310425\n",
      "At depth 10 and n_estimator 100 , the RMSE value for train set is 14.430906789841966 , and for test set, it is 45.098476933937455\n",
      "At depth 10 and n_estimator 200 , the RMSE value for train set is 14.293340842161667 , and for test set, it is 45.44805082148053\n",
      "At depth 10 and n_estimator 300 , the RMSE value for train set is 14.267026768633096 , and for test set, it is 45.36189106362842\n",
      "At depth 10 and n_estimator 400 , the RMSE value for train set is 14.24026597805549 , and for test set, it is 45.44380532223537\n",
      "At depth 10 and n_estimator 500 , the RMSE value for train set is 14.244607012374042 , and for test set, it is 45.522421006613236\n",
      "At depth 11 and n_estimator 100 , the RMSE value for train set is 12.936542068581595 , and for test set, it is 45.044619956217886\n",
      "At depth 11 and n_estimator 200 , the RMSE value for train set is 12.787494570858225 , and for test set, it is 45.20865992293085\n",
      "At depth 11 and n_estimator 300 , the RMSE value for train set is 12.74563911728467 , and for test set, it is 45.12295797321567\n",
      "At depth 11 and n_estimator 400 , the RMSE value for train set is 12.727343536769926 , and for test set, it is 45.17467743009897\n",
      "At depth 11 and n_estimator 500 , the RMSE value for train set is 12.73119602332723 , and for test set, it is 45.232089445674795\n",
      "At depth 12 and n_estimator 100 , the RMSE value for train set is 11.625519635867576 , and for test set, it is 44.86507389065633\n",
      "At depth 12 and n_estimator 200 , the RMSE value for train set is 11.466549943863372 , and for test set, it is 45.0080706461727\n",
      "At depth 12 and n_estimator 300 , the RMSE value for train set is 11.421331265213528 , and for test set, it is 44.830358615271805\n",
      "At depth 12 and n_estimator 400 , the RMSE value for train set is 11.409449434522971 , and for test set, it is 44.867825924172806\n",
      "At depth 12 and n_estimator 500 , the RMSE value for train set is 11.414812853862369 , and for test set, it is 44.91475064270049\n",
      "At depth 13 and n_estimator 100 , the RMSE value for train set is 10.567155322964735 , and for test set, it is 44.895843539276825\n",
      "At depth 13 and n_estimator 200 , the RMSE value for train set is 10.401148181908985 , and for test set, it is 44.92831503132585\n",
      "At depth 13 and n_estimator 300 , the RMSE value for train set is 10.356066313498962 , and for test set, it is 44.79868832491497\n",
      "At depth 13 and n_estimator 400 , the RMSE value for train set is 10.348360689137616 , and for test set, it is 44.85919294748682\n",
      "At depth 13 and n_estimator 500 , the RMSE value for train set is 10.362185061009233 , and for test set, it is 44.876515425425254\n",
      "At depth 14 and n_estimator 100 , the RMSE value for train set is 9.768904697520279 , and for test set, it is 44.70745757549144\n",
      "At depth 14 and n_estimator 200 , the RMSE value for train set is 9.601099214461886 , and for test set, it is 44.87240323135586\n",
      "At depth 14 and n_estimator 300 , the RMSE value for train set is 9.54888503485428 , and for test set, it is 44.7206247800451\n",
      "At depth 14 and n_estimator 400 , the RMSE value for train set is 9.54126920913167 , and for test set, it is 44.72837007249068\n",
      "At depth 14 and n_estimator 500 , the RMSE value for train set is 9.560579271231404 , and for test set, it is 44.75518274944236\n",
      "At depth 15 and n_estimator 100 , the RMSE value for train set is 9.190231636203094 , and for test set, it is 44.81737937549659\n",
      "At depth 15 and n_estimator 200 , the RMSE value for train set is 9.038735320876766 , and for test set, it is 45.10427720240668\n",
      "At depth 15 and n_estimator 300 , the RMSE value for train set is 8.975881400044646 , and for test set, it is 44.90341418842692\n",
      "At depth 15 and n_estimator 400 , the RMSE value for train set is 8.968128494132355 , and for test set, it is 44.916998872390565\n",
      "At depth 15 and n_estimator 500 , the RMSE value for train set is 8.983632643149567 , and for test set, it is 44.860469768560925\n"
     ]
    }
   ],
   "source": [
    "max_depth_list = [1,2,3,4,5,6,7,8,9,10,11,12,13,14,15]\n",
    "n_estimator_list = [100, 200, 300, 400, 500]\n",
    "\n",
    "for depth in max_depth_list:\n",
    "    for n_estimator in n_estimator_list:\n",
    "        model_rf = RandomForestRegressor(max_depth = depth, n_estimators = n_estimator, random_state = 42)\n",
    "        model_rf.fit(features_train, target_train)\n",
    "        \n",
    "        pred_train_rf = model_rf.predict(features_train)\n",
    "        pred_test_rf = model_rf.predict(features_test)\n",
    "        \n",
    "        rmse_train_rf = np.sqrt(mean_squared_error(target_train, pred_train_rf))\n",
    "        rmse_test_rf = np.sqrt(mean_squared_error(target_test, pred_test_rf))\n",
    "        \n",
    "        print(\"At depth\", depth, \"and n_estimator\", n_estimator, \", the RMSE value for train set is\", rmse_train_rf, \", and for test set, it is\", rmse_test_rf , end='')\n",
    "        print()"
   ]
  },
  {
   "cell_type": "markdown",
   "metadata": {},
   "source": [
    "### 3.3 Analysis Result\n",
    "\n",
    "From the testing results on features_train and features_set using three models (Linear Regression, Decision Tree Regressor, and Random Forest), the best result is obtained using the Linear Regression model. The RMSE value of Linear Regression model for the train set and test set is not as large as when using the Random Forest Regressor and Decision Tree Regressor models."
   ]
  },
  {
   "cell_type": "markdown",
   "metadata": {},
   "source": [
    "[Back to Contents](#back)"
   ]
  },
  {
   "cell_type": "markdown",
   "metadata": {},
   "source": [
    "## 4. Testing the Model on Test Set <a id='testing_model_test_set'></a>"
   ]
  },
  {
   "cell_type": "code",
   "execution_count": 27,
   "metadata": {},
   "outputs": [
    {
     "data": {
      "text/html": [
       "<style>#sk-container-id-2 {color: black;}#sk-container-id-2 pre{padding: 0;}#sk-container-id-2 div.sk-toggleable {background-color: white;}#sk-container-id-2 label.sk-toggleable__label {cursor: pointer;display: block;width: 100%;margin-bottom: 0;padding: 0.3em;box-sizing: border-box;text-align: center;}#sk-container-id-2 label.sk-toggleable__label-arrow:before {content: \"▸\";float: left;margin-right: 0.25em;color: #696969;}#sk-container-id-2 label.sk-toggleable__label-arrow:hover:before {color: black;}#sk-container-id-2 div.sk-estimator:hover label.sk-toggleable__label-arrow:before {color: black;}#sk-container-id-2 div.sk-toggleable__content {max-height: 0;max-width: 0;overflow: hidden;text-align: left;background-color: #f0f8ff;}#sk-container-id-2 div.sk-toggleable__content pre {margin: 0.2em;color: black;border-radius: 0.25em;background-color: #f0f8ff;}#sk-container-id-2 input.sk-toggleable__control:checked~div.sk-toggleable__content {max-height: 200px;max-width: 100%;overflow: auto;}#sk-container-id-2 input.sk-toggleable__control:checked~label.sk-toggleable__label-arrow:before {content: \"▾\";}#sk-container-id-2 div.sk-estimator input.sk-toggleable__control:checked~label.sk-toggleable__label {background-color: #d4ebff;}#sk-container-id-2 div.sk-label input.sk-toggleable__control:checked~label.sk-toggleable__label {background-color: #d4ebff;}#sk-container-id-2 input.sk-hidden--visually {border: 0;clip: rect(1px 1px 1px 1px);clip: rect(1px, 1px, 1px, 1px);height: 1px;margin: -1px;overflow: hidden;padding: 0;position: absolute;width: 1px;}#sk-container-id-2 div.sk-estimator {font-family: monospace;background-color: #f0f8ff;border: 1px dotted black;border-radius: 0.25em;box-sizing: border-box;margin-bottom: 0.5em;}#sk-container-id-2 div.sk-estimator:hover {background-color: #d4ebff;}#sk-container-id-2 div.sk-parallel-item::after {content: \"\";width: 100%;border-bottom: 1px solid gray;flex-grow: 1;}#sk-container-id-2 div.sk-label:hover label.sk-toggleable__label {background-color: #d4ebff;}#sk-container-id-2 div.sk-serial::before {content: \"\";position: absolute;border-left: 1px solid gray;box-sizing: border-box;top: 0;bottom: 0;left: 50%;z-index: 0;}#sk-container-id-2 div.sk-serial {display: flex;flex-direction: column;align-items: center;background-color: white;padding-right: 0.2em;padding-left: 0.2em;position: relative;}#sk-container-id-2 div.sk-item {position: relative;z-index: 1;}#sk-container-id-2 div.sk-parallel {display: flex;align-items: stretch;justify-content: center;background-color: white;position: relative;}#sk-container-id-2 div.sk-item::before, #sk-container-id-2 div.sk-parallel-item::before {content: \"\";position: absolute;border-left: 1px solid gray;box-sizing: border-box;top: 0;bottom: 0;left: 50%;z-index: -1;}#sk-container-id-2 div.sk-parallel-item {display: flex;flex-direction: column;z-index: 1;position: relative;background-color: white;}#sk-container-id-2 div.sk-parallel-item:first-child::after {align-self: flex-end;width: 50%;}#sk-container-id-2 div.sk-parallel-item:last-child::after {align-self: flex-start;width: 50%;}#sk-container-id-2 div.sk-parallel-item:only-child::after {width: 0;}#sk-container-id-2 div.sk-dashed-wrapped {border: 1px dashed gray;margin: 0 0.4em 0.5em 0.4em;box-sizing: border-box;padding-bottom: 0.4em;background-color: white;}#sk-container-id-2 div.sk-label label {font-family: monospace;font-weight: bold;display: inline-block;line-height: 1.2em;}#sk-container-id-2 div.sk-label-container {text-align: center;}#sk-container-id-2 div.sk-container {/* jupyter's `normalize.less` sets `[hidden] { display: none; }` but bootstrap.min.css set `[hidden] { display: none !important; }` so we also need the `!important` here to be able to override the default hidden behavior on the sphinx rendered scikit-learn.org. See: https://github.com/scikit-learn/scikit-learn/issues/21755 */display: inline-block !important;position: relative;}#sk-container-id-2 div.sk-text-repr-fallback {display: none;}</style><div id=\"sk-container-id-2\" class=\"sk-top-container\"><div class=\"sk-text-repr-fallback\"><pre>LinearRegression()</pre><b>In a Jupyter environment, please rerun this cell to show the HTML representation or trust the notebook. <br />On GitHub, the HTML representation is unable to render, please try loading this page with nbviewer.org.</b></div><div class=\"sk-container\" hidden><div class=\"sk-item\"><div class=\"sk-estimator sk-toggleable\"><input class=\"sk-toggleable__control sk-hidden--visually\" id=\"sk-estimator-id-2\" type=\"checkbox\" checked><label for=\"sk-estimator-id-2\" class=\"sk-toggleable__label sk-toggleable__label-arrow\">LinearRegression</label><div class=\"sk-toggleable__content\"><pre>LinearRegression()</pre></div></div></div></div></div>"
      ],
      "text/plain": [
       "LinearRegression()"
      ]
     },
     "execution_count": 27,
     "metadata": {},
     "output_type": "execute_result"
    }
   ],
   "source": [
    "model = LinearRegression()\n",
    "model.fit(features_train, target_train)"
   ]
  },
  {
   "cell_type": "code",
   "execution_count": 28,
   "metadata": {},
   "outputs": [],
   "source": [
    "pred_train = model.predict(features_train)\n",
    "pred_test = model.predict(features_test)"
   ]
  },
  {
   "cell_type": "code",
   "execution_count": 29,
   "metadata": {},
   "outputs": [],
   "source": [
    "rmse_train = np.sqrt(mean_squared_error(target_train, pred_train))\n",
    "rmse_test = np.sqrt(mean_squared_error(target_test, pred_test))"
   ]
  },
  {
   "cell_type": "code",
   "execution_count": 30,
   "metadata": {},
   "outputs": [
    {
     "data": {
      "text/plain": [
       "('The RMSE value for training set using Linear Regression model is',\n",
       " 28.993953135372347)"
      ]
     },
     "execution_count": 30,
     "metadata": {},
     "output_type": "execute_result"
    }
   ],
   "source": [
    "\"The RMSE value for training set using Linear Regression model is\", rmse_train"
   ]
  },
  {
   "cell_type": "code",
   "execution_count": 31,
   "metadata": {},
   "outputs": [
    {
     "data": {
      "text/plain": [
       "('The RMSE value for test set using Linear Regression model is ',\n",
       " 47.80919467530927)"
      ]
     },
     "execution_count": 31,
     "metadata": {},
     "output_type": "execute_result"
    }
   ],
   "source": [
    "'The RMSE value for test set using Linear Regression model is ', rmse_test"
   ]
  },
  {
   "cell_type": "markdown",
   "metadata": {},
   "source": [
    "[Back to Contents](#back)"
   ]
  },
  {
   "cell_type": "markdown",
   "metadata": {},
   "source": [
    "# General Conclusion <a id='end'></a>\n",
    "\n",
    "1. The best model used for prediction is Linear Regression, with an RMSE value on the test set of 47.81.\n",
    "2. The RMSE value on the test set is in line with the requirement, which is below 48.\n",
    "\n",
    "[Back to Contents](#back)"
   ]
  }
 ],
 "metadata": {
  "kernelspec": {
   "display_name": "Python 3 (ipykernel)",
   "language": "python",
   "name": "python3"
  },
  "language_info": {
   "codemirror_mode": {
    "name": "ipython",
    "version": 3
   },
   "file_extension": ".py",
   "mimetype": "text/x-python",
   "name": "python",
   "nbconvert_exporter": "python",
   "pygments_lexer": "ipython3",
   "version": "3.10.11"
  },
  "toc": {
   "base_numbering": 1,
   "nav_menu": {},
   "number_sections": true,
   "sideBar": true,
   "skip_h1_title": true,
   "title_cell": "Table of Contents",
   "title_sidebar": "Contents",
   "toc_cell": false,
   "toc_position": {},
   "toc_section_display": true,
   "toc_window_display": false
  }
 },
 "nbformat": 4,
 "nbformat_minor": 2
}
